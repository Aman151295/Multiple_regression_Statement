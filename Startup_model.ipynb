{
  "nbformat": 4,
  "nbformat_minor": 0,
  "metadata": {
    "colab": {
      "name": "Untitled8.ipynb",
      "provenance": [],
      "authorship_tag": "ABX9TyPD1BPKL9ZiArzX3PMDJ6gm",
      "include_colab_link": true
    },
    "kernelspec": {
      "name": "python3",
      "display_name": "Python 3"
    },
    "language_info": {
      "name": "python"
    }
  },
  "cells": [
    {
      "cell_type": "markdown",
      "metadata": {
        "id": "view-in-github",
        "colab_type": "text"
      },
      "source": [
        "<a href=\"https://colab.research.google.com/github/Aman151295/Multiple_regression_Statement/blob/main/Startup_model.ipynb\" target=\"_parent\"><img src=\"https://colab.research.google.com/assets/colab-badge.svg\" alt=\"Open In Colab\"/></a>"
      ]
    },
    {
      "cell_type": "code",
      "execution_count": 3,
      "metadata": {
        "id": "HmBQiAbgTjLR",
        "colab": {
          "base_uri": "https://localhost:8080/"
        },
        "outputId": "9afaf70e-4f1f-46b8-976a-9428546adc6e"
      },
      "outputs": [
        {
          "output_type": "stream",
          "name": "stderr",
          "text": [
            "/usr/local/lib/python3.7/dist-packages/statsmodels/tools/_testing.py:19: FutureWarning: pandas.util.testing is deprecated. Use the functions in the public API at pandas.testing instead.\n",
            "  import pandas.util.testing as tm\n"
          ]
        }
      ],
      "source": [
        "import pandas as pd\n",
        "import numpy as np\n",
        "import scipy \n",
        "from scipy import stats\n",
        "import matplotlib.pyplot as plt\n",
        "%matplotlib inline\n",
        "import seaborn as sns\n",
        "import statsmodels.formula.api as smf"
      ]
    },
    {
      "cell_type": "code",
      "source": [
        "Start_up = pd.read_csv(\"/content/50_Startups.csv\")\n",
        "print('50_Start_up' , Start_up)"
      ],
      "metadata": {
        "colab": {
          "base_uri": "https://localhost:8080/"
        },
        "id": "Eg4FXoM1TtLV",
        "outputId": "7c57dce7-de15-47ae-b069-c3ce9151061c"
      },
      "execution_count": 4,
      "outputs": [
        {
          "output_type": "stream",
          "name": "stdout",
          "text": [
            "50_Start_up     R&D Spend  Administration  Marketing Spend       State     Profit\n",
            "0   165349.20       136897.80        471784.10    New York  192261.83\n",
            "1   162597.70       151377.59        443898.53  California  191792.06\n",
            "2   153441.51       101145.55        407934.54     Florida  191050.39\n",
            "3   144372.41       118671.85        383199.62    New York  182901.99\n",
            "4   142107.34        91391.77        366168.42     Florida  166187.94\n",
            "5   131876.90        99814.71        362861.36    New York  156991.12\n",
            "6   134615.46       147198.87        127716.82  California  156122.51\n",
            "7   130298.13       145530.06        323876.68     Florida  155752.60\n",
            "8   120542.52       148718.95        311613.29    New York  152211.77\n",
            "9   123334.88       108679.17        304981.62  California  149759.96\n",
            "10  101913.08       110594.11        229160.95     Florida  146121.95\n",
            "11  100671.96        91790.61        249744.55  California  144259.40\n",
            "12   93863.75       127320.38        249839.44     Florida  141585.52\n",
            "13   91992.39       135495.07        252664.93  California  134307.35\n",
            "14  119943.24       156547.42        256512.92     Florida  132602.65\n",
            "15  114523.61       122616.84        261776.23    New York  129917.04\n",
            "16   78013.11       121597.55        264346.06  California  126992.93\n",
            "17   94657.16       145077.58        282574.31    New York  125370.37\n",
            "18   91749.16       114175.79        294919.57     Florida  124266.90\n",
            "19   86419.70       153514.11             0.00    New York  122776.86\n",
            "20   76253.86       113867.30        298664.47  California  118474.03\n",
            "21   78389.47       153773.43        299737.29    New York  111313.02\n",
            "22   73994.56       122782.75        303319.26     Florida  110352.25\n",
            "23   67532.53       105751.03        304768.73     Florida  108733.99\n",
            "24   77044.01        99281.34        140574.81    New York  108552.04\n",
            "25   64664.71       139553.16        137962.62  California  107404.34\n",
            "26   75328.87       144135.98        134050.07     Florida  105733.54\n",
            "27   72107.60       127864.55        353183.81    New York  105008.31\n",
            "28   66051.52       182645.56        118148.20     Florida  103282.38\n",
            "29   65605.48       153032.06        107138.38    New York  101004.64\n",
            "30   61994.48       115641.28         91131.24     Florida   99937.59\n",
            "31   61136.38       152701.92         88218.23    New York   97483.56\n",
            "32   63408.86       129219.61         46085.25  California   97427.84\n",
            "33   55493.95       103057.49        214634.81     Florida   96778.92\n",
            "34   46426.07       157693.92        210797.67  California   96712.80\n",
            "35   46014.02        85047.44        205517.64    New York   96479.51\n",
            "36   28663.76       127056.21        201126.82     Florida   90708.19\n",
            "37   44069.95        51283.14        197029.42  California   89949.14\n",
            "38   20229.59        65947.93        185265.10    New York   81229.06\n",
            "39   38558.51        82982.09        174999.30  California   81005.76\n",
            "40   28754.33       118546.05        172795.67  California   78239.91\n",
            "41   27892.92        84710.77        164470.71     Florida   77798.83\n",
            "42   23640.93        96189.63        148001.11  California   71498.49\n",
            "43   15505.73       127382.30         35534.17    New York   69758.98\n",
            "44   22177.74       154806.14         28334.72  California   65200.33\n",
            "45    1000.23       124153.04          1903.93    New York   64926.08\n",
            "46    1315.46       115816.21        297114.46     Florida   49490.75\n",
            "47       0.00       135426.92             0.00  California   42559.73\n",
            "48     542.05        51743.15             0.00    New York   35673.41\n",
            "49       0.00       116983.80         45173.06  California   14681.40\n"
          ]
        }
      ]
    },
    {
      "cell_type": "code",
      "source": [
        "Start_up.columns"
      ],
      "metadata": {
        "colab": {
          "base_uri": "https://localhost:8080/"
        },
        "id": "uUjfRooi4wsX",
        "outputId": "ac718543-8747-447c-a073-4f68f7011318"
      },
      "execution_count": 5,
      "outputs": [
        {
          "output_type": "execute_result",
          "data": {
            "text/plain": [
              "Index(['R&D Spend', 'Administration', 'Marketing Spend', 'State', 'Profit'], dtype='object')"
            ]
          },
          "metadata": {},
          "execution_count": 5
        }
      ]
    },
    {
      "cell_type": "code",
      "source": [
        "New_columns = {'R&D Spend' : 'Rd_Spend',\n",
        "    'Administration' : 'Admnstn',\n",
        "    'Marketing Spend' : 'Marktn_Spend'}\n",
        "\n",
        "\n",
        "Start_up = Start_up.rename(columns = New_columns)\n",
        "print('Start_up : ', Start_up)"
      ],
      "metadata": {
        "colab": {
          "base_uri": "https://localhost:8080/"
        },
        "id": "eBmH_rFc54r-",
        "outputId": "290e75d5-c478-402e-f74a-b16152a6b92a"
      },
      "execution_count": 6,
      "outputs": [
        {
          "output_type": "stream",
          "name": "stdout",
          "text": [
            "Start_up :       Rd_Spend    Admnstn  Marktn_Spend       State     Profit\n",
            "0   165349.20  136897.80     471784.10    New York  192261.83\n",
            "1   162597.70  151377.59     443898.53  California  191792.06\n",
            "2   153441.51  101145.55     407934.54     Florida  191050.39\n",
            "3   144372.41  118671.85     383199.62    New York  182901.99\n",
            "4   142107.34   91391.77     366168.42     Florida  166187.94\n",
            "5   131876.90   99814.71     362861.36    New York  156991.12\n",
            "6   134615.46  147198.87     127716.82  California  156122.51\n",
            "7   130298.13  145530.06     323876.68     Florida  155752.60\n",
            "8   120542.52  148718.95     311613.29    New York  152211.77\n",
            "9   123334.88  108679.17     304981.62  California  149759.96\n",
            "10  101913.08  110594.11     229160.95     Florida  146121.95\n",
            "11  100671.96   91790.61     249744.55  California  144259.40\n",
            "12   93863.75  127320.38     249839.44     Florida  141585.52\n",
            "13   91992.39  135495.07     252664.93  California  134307.35\n",
            "14  119943.24  156547.42     256512.92     Florida  132602.65\n",
            "15  114523.61  122616.84     261776.23    New York  129917.04\n",
            "16   78013.11  121597.55     264346.06  California  126992.93\n",
            "17   94657.16  145077.58     282574.31    New York  125370.37\n",
            "18   91749.16  114175.79     294919.57     Florida  124266.90\n",
            "19   86419.70  153514.11          0.00    New York  122776.86\n",
            "20   76253.86  113867.30     298664.47  California  118474.03\n",
            "21   78389.47  153773.43     299737.29    New York  111313.02\n",
            "22   73994.56  122782.75     303319.26     Florida  110352.25\n",
            "23   67532.53  105751.03     304768.73     Florida  108733.99\n",
            "24   77044.01   99281.34     140574.81    New York  108552.04\n",
            "25   64664.71  139553.16     137962.62  California  107404.34\n",
            "26   75328.87  144135.98     134050.07     Florida  105733.54\n",
            "27   72107.60  127864.55     353183.81    New York  105008.31\n",
            "28   66051.52  182645.56     118148.20     Florida  103282.38\n",
            "29   65605.48  153032.06     107138.38    New York  101004.64\n",
            "30   61994.48  115641.28      91131.24     Florida   99937.59\n",
            "31   61136.38  152701.92      88218.23    New York   97483.56\n",
            "32   63408.86  129219.61      46085.25  California   97427.84\n",
            "33   55493.95  103057.49     214634.81     Florida   96778.92\n",
            "34   46426.07  157693.92     210797.67  California   96712.80\n",
            "35   46014.02   85047.44     205517.64    New York   96479.51\n",
            "36   28663.76  127056.21     201126.82     Florida   90708.19\n",
            "37   44069.95   51283.14     197029.42  California   89949.14\n",
            "38   20229.59   65947.93     185265.10    New York   81229.06\n",
            "39   38558.51   82982.09     174999.30  California   81005.76\n",
            "40   28754.33  118546.05     172795.67  California   78239.91\n",
            "41   27892.92   84710.77     164470.71     Florida   77798.83\n",
            "42   23640.93   96189.63     148001.11  California   71498.49\n",
            "43   15505.73  127382.30      35534.17    New York   69758.98\n",
            "44   22177.74  154806.14      28334.72  California   65200.33\n",
            "45    1000.23  124153.04       1903.93    New York   64926.08\n",
            "46    1315.46  115816.21     297114.46     Florida   49490.75\n",
            "47       0.00  135426.92          0.00  California   42559.73\n",
            "48     542.05   51743.15          0.00    New York   35673.41\n",
            "49       0.00  116983.80      45173.06  California   14681.40\n"
          ]
        }
      ]
    },
    {
      "cell_type": "code",
      "source": [
        "Start_up.info()\n"
      ],
      "metadata": {
        "colab": {
          "base_uri": "https://localhost:8080/"
        },
        "id": "IdO4WYV56nG8",
        "outputId": "3b58f7ad-74b7-4d05-b4fc-396c0189dc92"
      },
      "execution_count": 7,
      "outputs": [
        {
          "output_type": "stream",
          "name": "stdout",
          "text": [
            "<class 'pandas.core.frame.DataFrame'>\n",
            "RangeIndex: 50 entries, 0 to 49\n",
            "Data columns (total 5 columns):\n",
            " #   Column        Non-Null Count  Dtype  \n",
            "---  ------        --------------  -----  \n",
            " 0   Rd_Spend      50 non-null     float64\n",
            " 1   Admnstn       50 non-null     float64\n",
            " 2   Marktn_Spend  50 non-null     float64\n",
            " 3   State         50 non-null     object \n",
            " 4   Profit        50 non-null     float64\n",
            "dtypes: float64(4), object(1)\n",
            "memory usage: 2.1+ KB\n"
          ]
        }
      ]
    },
    {
      "cell_type": "code",
      "source": [
        "Start_up.isnull().sum()"
      ],
      "metadata": {
        "colab": {
          "base_uri": "https://localhost:8080/"
        },
        "id": "wDaBLQ9-IJIa",
        "outputId": "2dd8b47a-6016-4095-dd72-96486be9ae1e"
      },
      "execution_count": 8,
      "outputs": [
        {
          "output_type": "execute_result",
          "data": {
            "text/plain": [
              "Rd_Spend        0\n",
              "Admnstn         0\n",
              "Marktn_Spend    0\n",
              "State           0\n",
              "Profit          0\n",
              "dtype: int64"
            ]
          },
          "metadata": {},
          "execution_count": 8
        }
      ]
    },
    {
      "cell_type": "code",
      "source": [
        "# Now we will convert it into 'int64' type.\n",
        "Start_up['Admnstn'] = Start_up['Admnstn'].astype('float64')\n",
        "Start_up.info()"
      ],
      "metadata": {
        "colab": {
          "base_uri": "https://localhost:8080/"
        },
        "id": "hvWywucoIQm-",
        "outputId": "d7321e23-ddaa-499c-bb8e-1eec2da6b949"
      },
      "execution_count": 9,
      "outputs": [
        {
          "output_type": "stream",
          "name": "stdout",
          "text": [
            "<class 'pandas.core.frame.DataFrame'>\n",
            "RangeIndex: 50 entries, 0 to 49\n",
            "Data columns (total 5 columns):\n",
            " #   Column        Non-Null Count  Dtype  \n",
            "---  ------        --------------  -----  \n",
            " 0   Rd_Spend      50 non-null     float64\n",
            " 1   Admnstn       50 non-null     float64\n",
            " 2   Marktn_Spend  50 non-null     float64\n",
            " 3   State         50 non-null     object \n",
            " 4   Profit        50 non-null     float64\n",
            "dtypes: float64(4), object(1)\n",
            "memory usage: 2.1+ KB\n"
          ]
        }
      ]
    },
    {
      "cell_type": "code",
      "source": [
        "Start_up.corr()\n",
        "\n",
        "sns.heatmap(Start_up.corr(), cmap = 'Greens', annot= True)"
      ],
      "metadata": {
        "colab": {
          "base_uri": "https://localhost:8080/",
          "height": 287
        },
        "id": "U68HFKQmuuad",
        "outputId": "27013039-28cb-461d-d35b-560bbc87ca79"
      },
      "execution_count": 10,
      "outputs": [
        {
          "output_type": "execute_result",
          "data": {
            "text/plain": [
              "<matplotlib.axes._subplots.AxesSubplot at 0x7f404333f550>"
            ]
          },
          "metadata": {},
          "execution_count": 10
        },
        {
          "output_type": "display_data",
          "data": {
            "image/png": "[encoded data removed]",
            "text/plain": [
              "<Figure size 432x288 with 2 Axes>"
            ]
          },
          "metadata": {
            "needs_background": "light"
          }
        }
      ]
    },
    {
      "cell_type": "code",
      "source": [
        "sns.pairplot(Start_up)"
      ],
      "metadata": {
        "colab": {
          "base_uri": "https://localhost:8080/",
          "height": 743
        },
        "id": "4T_ZqP3hUabf",
        "outputId": "b5bb86ad-f4ba-462f-fdd0-5af889127d64"
      },
      "execution_count": 11,
      "outputs": [
        {
          "output_type": "execute_result",
          "data": {
            "text/plain": [
              "<seaborn.axisgrid.PairGrid at 0x7f401e4ddb10>"
            ]
          },
          "metadata": {},
          "execution_count": 11
        },
        {
          "output_type": "display_data",
          "data": {
            "image/png": "[encoded data removed]",
            "text/plain": [
              "<Figure size 720x720 with 20 Axes>"
            ]
          },
          "metadata": {
            "needs_background": "light"
          }
        }
      ]
    },
    {
      "cell_type": "markdown",
      "source": [
        "R&D Spend vs Administartion =  0.24 \n",
        "R7D Spend vs Marketing Spend = 0.72 , Here we collinearity issue. \n",
        "and it's highly correlated with Profit 0.97\n",
        "\n",
        "Administration vs R&D = 0.24\n",
        "Administration vs marketing spend = -0.032\n",
        "Administration Vs response Variable (Profit) = 0.2\n",
        "\n",
        "Marketing Spend vs R&D = 0.72, highly Correlated\n",
        "Marketing Spend vs Administration = -0.032, No collinearity\n",
        "Marketing vs Profit  = 0.75\n",
        "\n",
        "\n",
        "\n",
        "\n",
        "\n",
        "\n",
        "\n"
      ],
      "metadata": {
        "id": "6lPvjNTD5Fzu"
      }
    },
    {
      "cell_type": "code",
      "source": [
        "#Seprating the Predictors & Response.\n",
        "\n",
        "Predictors_X = Start_up[['Rd_Spend', 'Admnstn', 'Marktn_Spend']]\n",
        "\n",
        "Response_Y = Start_up['Profit']"
      ],
      "metadata": {
        "id": "CEwR1GPLG5zE"
      },
      "execution_count": 19,
      "outputs": []
    },
    {
      "cell_type": "code",
      "source": [
        "#As we are going ahead to highly correlated variables with the help of VIF(Variance Inflation Factor)\n",
        "\n",
        "\n",
        "from statsmodels.stats.outliers_influence import  variance_inflation_factor\n",
        "\n",
        "\n",
        "vif_data = pd.DataFrame()\n",
        "vif_data['Predictor'] = Predictors_X.columns\n",
        "\n",
        "\n",
        "#Calculating VIF for each feature\n",
        "vif_data['VIF_Value'] = [variance_inflation_factor(Predictors_X.values, i) for i in range(len(Predictors_X.columns))]\n",
        "print(vif_data)"
      ],
      "metadata": {
        "colab": {
          "base_uri": "https://localhost:8080/"
        },
        "id": "gMYFqJ2gVpfU",
        "outputId": "04a8df98-7c71-4013-d45f-1234c6df1ba2"
      },
      "execution_count": 18,
      "outputs": [
        {
          "output_type": "stream",
          "name": "stdout",
          "text": [
            "      Predictor  VIF_Value\n",
            "0      Rd_Spend   8.384571\n",
            "1       Admnstn   4.026406\n",
            "2  Marktn_Spend   7.593984\n"
          ]
        }
      ]
    },
    {
      "cell_type": "markdown",
      "source": [
        "As from Above observations, we can say that none of the VIF values are above 20...\n",
        "So we can conclude that all values are significant"
      ],
      "metadata": {
        "id": "QVI_nu6xVwGB"
      }
    },
    {
      "cell_type": "code",
      "source": [
        "Desc = Start_up.describe()\n",
        "\n",
        "Desc.loc['+3_Std'] = Desc.loc['mean'] + (Desc.loc['std'] *3)\n",
        "Desc.loc['-3_Std'] = Desc.loc['mean'] - (Desc.loc['std'] *3)\n",
        "\n",
        "print(Desc)\n",
        "\n"
      ],
      "metadata": {
        "colab": {
          "base_uri": "https://localhost:8080/"
        },
        "id": "gtGkve4vf_sg",
        "outputId": "9cca9c1e-3fe0-4ed1-d85f-1f055cb4b65e"
      },
      "execution_count": 17,
      "outputs": [
        {
          "output_type": "stream",
          "name": "stdout",
          "text": [
            "             Rd_Spend        Admnstn   Marktn_Spend         Profit\n",
            "count       50.000000      50.000000      50.000000      50.000000\n",
            "mean     73721.615600  121344.639600  211025.097800  112012.639200\n",
            "std      45902.256482   28017.802755  122290.310726   40306.180338\n",
            "min          0.000000   51283.140000       0.000000   14681.400000\n",
            "25%      39936.370000  103730.875000  129300.132500   90138.902500\n",
            "50%      73051.080000  122699.795000  212716.240000  107978.190000\n",
            "75%     101602.800000  144842.180000  299469.085000  139765.977500\n",
            "max     165349.200000  182645.560000  471784.100000  192261.830000\n",
            "+3_Std  211428.385047  205398.047866  577896.029978  232931.180213\n",
            "-3_Std  -63985.153847   37291.231334 -155845.834378   -8905.901813\n"
          ]
        }
      ]
    },
    {
      "cell_type": "code",
      "source": [
        ""
      ],
      "metadata": {
        "id": "IVf_62cl2fF4"
      },
      "execution_count": 16,
      "outputs": []
    },
    {
      "cell_type": "code",
      "source": [
        "# Model Building\n",
        "\n",
        "from sklearn.linear_model import LinearRegression\n",
        "from sklearn.model_selection import train_test_split\n",
        "\n",
        "Regr = LinearRegression()\n",
        "\n",
        "X_train, X_Test, Y_train, Y_test = train_test_split(Predictors_X, Response_Y, test_size = 0.2, random_state = 1)\n",
        "\n",
        "Regr.fit(X_train,Y_train)\n",
        "\n"
      ],
      "metadata": {
        "colab": {
          "base_uri": "https://localhost:8080/"
        },
        "id": "1JJsF7XmjAxQ",
        "outputId": "f13e4b63-96e8-4f56-f52d-ad2c2b5e5c67"
      },
      "execution_count": 20,
      "outputs": [
        {
          "output_type": "execute_result",
          "data": {
            "text/plain": [
              "LinearRegression()"
            ]
          },
          "metadata": {},
          "execution_count": 20
        }
      ]
    },
    {
      "cell_type": "code",
      "source": [
        "#With the data now fitted to the model, we can explore the output\n",
        "\n",
        "# The first thing we should do is look at the intercept of the model\n",
        "\n",
        "intercept = Regr.intercept_\n",
        "Coefficient = Regr.coef_\n",
        "\n",
        "print('Intercept :', round(intercept, 3), '\\n','Coefficient :', Coefficient)"
      ],
      "metadata": {
        "colab": {
          "base_uri": "https://localhost:8080/"
        },
        "id": "J0VVh0P4nrUi",
        "outputId": "caf5a546-d95d-45db-a783-f9727571d112"
      },
      "execution_count": 21,
      "outputs": [
        {
          "output_type": "stream",
          "name": "stdout",
          "text": [
            "Intercept : 49659.158 \n",
            " Coefficient : [ 0.7742023  -0.00877164  0.02934891]\n"
          ]
        }
      ]
    },
    {
      "cell_type": "code",
      "source": [
        "# Get multiple predictions\n",
        "\n",
        "Y_predict = Regr.predict(X_Test)\n",
        "print(Y_predict)"
      ],
      "metadata": {
        "colab": {
          "base_uri": "https://localhost:8080/"
        },
        "id": "_cHsHS03qa37",
        "outputId": "32c9e105-fff4-4026-d05d-ed153b488f74"
      },
      "execution_count": 22,
      "outputs": [
        {
          "output_type": "stream",
          "name": "stdout",
          "text": [
            "[114729.00768236  90569.03231312  75952.34861633  70179.81117586\n",
            " 179539.15187896 171638.15637459  49624.94193162 102253.12475568\n",
            "  58381.67907     98240.74724733]\n"
          ]
        }
      ]
    },
    {
      "cell_type": "code",
      "source": [
        ""
      ],
      "metadata": {
        "id": "B8Ok1opmjBBw"
      },
      "execution_count": null,
      "outputs": []
    },
    {
      "cell_type": "markdown",
      "source": [
        "# **Model Evaluation**"
      ],
      "metadata": {
        "id": "XY5tv5Pw2ln3"
      }
    },
    {
      "cell_type": "code",
      "source": [
        "#Test for heteroscedasticity\n",
        "\n",
        "import statsmodels.formula.api as smf\n",
        "\n",
        "Model = smf.ols( 'Profit ~ Rd_Spend+Admnstn+Marktn_Spend' , data=Start_up).fit()\n",
        "#View model summary\n",
        "print(Model.summary())"
      ],
      "metadata": {
        "colab": {
          "base_uri": "https://localhost:8080/"
        },
        "id": "OcgLbALMLOUi",
        "outputId": "a484578a-9dcf-4929-fad7-be5119376800"
      },
      "execution_count": 24,
      "outputs": [
        {
          "output_type": "stream",
          "name": "stdout",
          "text": [
            "                            OLS Regression Results                            \n",
            "==============================================================================\n",
            "Dep. Variable:                 Profit   R-squared:                       0.951\n",
            "Model:                            OLS   Adj. R-squared:                  0.948\n",
            "Method:                 Least Squares   F-statistic:                     296.0\n",
            "Date:                Mon, 24 Jan 2022   Prob (F-statistic):           4.53e-30\n",
            "Time:                        17:22:59   Log-Likelihood:                -525.39\n",
            "No. Observations:                  50   AIC:                             1059.\n",
            "Df Residuals:                      46   BIC:                             1066.\n",
            "Df Model:                           3                                         \n",
            "Covariance Type:            nonrobust                                         \n",
            "================================================================================\n",
            "                   coef    std err          t      P>|t|      [0.025      0.975]\n",
            "--------------------------------------------------------------------------------\n",
            "Intercept     5.012e+04   6572.353      7.626      0.000    3.69e+04    6.34e+04\n",
            "Rd_Spend         0.8057      0.045     17.846      0.000       0.715       0.897\n",
            "Admnstn         -0.0268      0.051     -0.526      0.602      -0.130       0.076\n",
            "Marktn_Spend     0.0272      0.016      1.655      0.105      -0.006       0.060\n",
            "==============================================================================\n",
            "Omnibus:                       14.838   Durbin-Watson:                   1.282\n",
            "Prob(Omnibus):                  0.001   Jarque-Bera (JB):               21.442\n",
            "Skew:                          -0.949   Prob(JB):                     2.21e-05\n",
            "Kurtosis:                       5.586   Cond. No.                     1.40e+06\n",
            "==============================================================================\n",
            "\n",
            "Warnings:\n",
            "[1] Standard Errors assume that the covariance matrix of the errors is correctly specified.\n",
            "[2] The condition number is large, 1.4e+06. This might indicate that there are\n",
            "strong multicollinearity or other numerical problems.\n"
          ]
        }
      ]
    },
    {
      "cell_type": "code",
      "source": [
        "import statsmodels.stats.api as sms\n",
        "\n",
        "_,p_val,_,f_pval = sms.het_breuschpagan(Model.resid, Model.model.exog)\n",
        "print(p_val, f_pval)\n",
        "print('-'*100)\n",
        "\n",
        "if p_val > 0.05:\n",
        "  print('We fail to reject the null hypothesis , so there is no heterosecdasticity')\n",
        "else: print('We have heterosecdasticity')"
      ],
      "metadata": {
        "colab": {
          "base_uri": "https://localhost:8080/"
        },
        "id": "6UmB8uge7gqp",
        "outputId": "bca10985-4239-4c3f-e6c0-ff5cf4657034"
      },
      "execution_count": 26,
      "outputs": [
        {
          "output_type": "stream",
          "name": "stdout",
          "text": [
            "0.37291203675384504 0.3917022374261764\n",
            "----------------------------------------------------------------------------------------------------\n",
            "We fail to reject the null hypothesis , so there is no heterosecdasticity\n"
          ]
        }
      ]
    },
    {
      "cell_type": "markdown",
      "source": [
        "# **Residual Plot ( Fitted Values vs Residuals)**"
      ],
      "metadata": {
        "id": "JlcD-nuwBGkp"
      }
    },
    {
      "cell_type": "code",
      "source": [
        "Fit_Values = stats.zscore(Model.fittedvalues)\n",
        "resid      = stats.zscore(Model.resid)\n",
        "\n",
        "plt.scatter(Fit_Values,resid)\n",
        "plt.title('Residual Plot')\n",
        "plt.xlabel('standardized fitted values')\n",
        "plt.ylabel('standardized residual values')\n",
        "plt.show() "
      ],
      "metadata": {
        "colab": {
          "base_uri": "https://localhost:8080/",
          "height": 295
        },
        "id": "fC2wCCTVAemo",
        "outputId": "29f9ce9e-e11d-4465-a17b-2c1512b8a347"
      },
      "execution_count": 27,
      "outputs": [
        {
          "output_type": "display_data",
          "data": {
            "image/png": "[encoded data removed]",
            "text/plain": [
              "<Figure size 432x288 with 1 Axes>"
            ]
          },
          "metadata": {
            "needs_background": "light"
          }
        }
      ]
    },
    {
      "cell_type": "code",
      "source": [
        "#Testing for Autocorrelation\n",
        "\n",
        "# check for the normality of the residuals\n",
        "import statsmodels.api as sa\n",
        "sa.qqplot(Model.resid, line='s')\n",
        "plt.title(\"Normal Q-Q plot of residuals\")\n",
        "plt.show()\n",
        "\n",
        "#Also check that the mean of the residuals is approx. 0.\n",
        "mean_residuals = sum(Model.resid)/ len(Model.resid)\n",
        "print(\"The mean of the residuals is {:.4}\".format(mean_residuals))\n",
        "\n",
        "from statsmodels.stats.stattools import durbin_watson\n",
        "\n",
        "durbin_watson(Model.resid)\n"
      ],
      "metadata": {
        "colab": {
          "base_uri": "https://localhost:8080/",
          "height": 330
        },
        "id": "i6jRp6y0KiXU",
        "outputId": "f1dc3ce1-705a-4f69-c42d-62a01acc0aa3"
      },
      "execution_count": 28,
      "outputs": [
        {
          "output_type": "display_data",
          "data": {
            "image/png": "[encoded data removed]",
            "text/plain": [
              "<Figure size 432x288 with 1 Axes>"
            ]
          },
          "metadata": {
            "needs_background": "light"
          }
        },
        {
          "output_type": "stream",
          "name": "stdout",
          "text": [
            "The mean of the residuals is -8.149e-12\n"
          ]
        },
        {
          "output_type": "execute_result",
          "data": {
            "text/plain": [
              "1.2817662007267283"
            ]
          },
          "metadata": {},
          "execution_count": 28
        }
      ]
    },
    {
      "cell_type": "markdown",
      "source": [
        "# **Model Deletion Diagnostics (checking Outliers or Influencers)**"
      ],
      "metadata": {
        "id": "zmqDnKqeV95C"
      }
    },
    {
      "cell_type": "code",
      "source": [
        "# 1. Cook's Distance: If Cook's distance > 1, then it's an outlier\n",
        "# Get influencers using cook's distance\n",
        "\n",
        "#create instance of influence\n",
        "influence = Model.get_influence()\n",
        "\n",
        "cooks, _ = influence.cooks_distance\n",
        "cooks\n",
        "\n",
        "#By default, the cooks_distance() function displays an array of values for Cook’s distance for each observation followed by an array of corresponding p-values."
      ],
      "metadata": {
        "colab": {
          "base_uri": "https://localhost:8080/"
        },
        "id": "5CwouwKOfV7I",
        "outputId": "d3289edc-1e03-4fa4-b6f9-dedb28d86450"
      },
      "execution_count": 46,
      "outputs": [
        {
          "output_type": "execute_result",
          "data": {
            "text/plain": [
              "array([3.21825244e-05, 3.27591036e-03, 3.23842699e-02, 2.17206555e-02,\n",
              "       1.44833032e-02, 1.17158463e-02, 2.91766303e-03, 3.56513444e-03,\n",
              "       4.04303948e-05, 4.86758017e-03, 1.51064757e-02, 1.63564959e-02,\n",
              "       1.15516625e-02, 4.01422811e-03, 6.12934253e-02, 3.40013448e-02,\n",
              "       8.33556413e-03, 3.30534399e-03, 2.16819303e-03, 4.07440577e-02,\n",
              "       4.25137222e-04, 1.09844352e-02, 2.91768000e-03, 2.76030254e-04,\n",
              "       5.04643588e-03, 3.00074623e-03, 3.41957068e-03, 2.98396413e-02,\n",
              "       1.31590664e-03, 1.25992620e-04, 4.18505125e-05, 9.27434786e-06,\n",
              "       7.08656521e-04, 1.28122674e-04, 2.09815032e-02, 6.69508674e-03,\n",
              "       5.55314705e-02, 6.55050578e-05, 5.61547311e-02, 1.54279607e-03,\n",
              "       1.84850929e-03, 1.97578066e-03, 1.36089280e-04, 2.05553171e-02,\n",
              "       1.23156041e-04, 9.03234206e-02, 5.45303387e-02, 5.33885616e-03,\n",
              "       1.90527441e-01, 2.88082293e-01])"
            ]
          },
          "metadata": {},
          "execution_count": 46
        }
      ]
    },
    {
      "cell_type": "code",
      "source": [
        "import matplotlib.pyplot as plt\n",
        "import numpy as np\n",
        "\n",
        "plt.stem(np.arange(len(Start_up)), cooks)\n",
        "plt.xlabel('x')\n",
        "plt.ylabel('Cooks Distance')\n",
        "plt.show()\n",
        "\n",
        "\n",
        "\n",
        "\n"
      ],
      "metadata": {
        "colab": {
          "base_uri": "https://localhost:8080/",
          "height": 337
        },
        "id": "TTnc5qEYc0Ys",
        "outputId": "38e48b23-f4c4-4ada-96f8-95d3400337e8"
      },
      "execution_count": 47,
      "outputs": [
        {
          "output_type": "stream",
          "name": "stderr",
          "text": [
            "/usr/local/lib/python3.7/dist-packages/ipykernel_launcher.py:4: UserWarning: In Matplotlib 3.3 individual lines on a stem plot will be added as a LineCollection instead of individual lines. This significantly improves the performance of a stem plot. To remove this warning and switch to the new behaviour, set the \"use_line_collection\" keyword argument to True.\n",
            "  after removing the cwd from sys.path.\n"
          ]
        },
        {
          "output_type": "display_data",
          "data": {
            "image/png": "[encoded data removed]",
            "text/plain": [
              "<Figure size 432x288 with 1 Axes>"
            ]
          },
          "metadata": {
            "needs_background": "light"
          }
        }
      ]
    },
    {
      "cell_type": "code",
      "source": [
        "import statsmodels.formula.api as smf\n",
        "\n",
        "Model2 = smf.ols( 'Profit ~ Rd_Spend+Marktn_Spend+Admnstn' , data=Start_up).fit()\n",
        "#View model summary\n",
        "print(Model2.summary())"
      ],
      "metadata": {
        "colab": {
          "base_uri": "https://localhost:8080/"
        },
        "id": "fbEpivTjISa0",
        "outputId": "94fbc9d2-be9e-4761-876f-a4601cc80f95"
      },
      "execution_count": 44,
      "outputs": [
        {
          "output_type": "stream",
          "name": "stdout",
          "text": [
            "                            OLS Regression Results                            \n",
            "==============================================================================\n",
            "Dep. Variable:                 Profit   R-squared:                       0.951\n",
            "Model:                            OLS   Adj. R-squared:                  0.948\n",
            "Method:                 Least Squares   F-statistic:                     296.0\n",
            "Date:                Mon, 24 Jan 2022   Prob (F-statistic):           4.53e-30\n",
            "Time:                        17:37:08   Log-Likelihood:                -525.39\n",
            "No. Observations:                  50   AIC:                             1059.\n",
            "Df Residuals:                      46   BIC:                             1066.\n",
            "Df Model:                           3                                         \n",
            "Covariance Type:            nonrobust                                         \n",
            "================================================================================\n",
            "                   coef    std err          t      P>|t|      [0.025      0.975]\n",
            "--------------------------------------------------------------------------------\n",
            "Intercept     5.012e+04   6572.353      7.626      0.000    3.69e+04    6.34e+04\n",
            "Rd_Spend         0.8057      0.045     17.846      0.000       0.715       0.897\n",
            "Marktn_Spend     0.0272      0.016      1.655      0.105      -0.006       0.060\n",
            "Admnstn         -0.0268      0.051     -0.526      0.602      -0.130       0.076\n",
            "==============================================================================\n",
            "Omnibus:                       14.838   Durbin-Watson:                   1.282\n",
            "Prob(Omnibus):                  0.001   Jarque-Bera (JB):               21.442\n",
            "Skew:                          -0.949   Prob(JB):                     2.21e-05\n",
            "Kurtosis:                       5.586   Cond. No.                     1.40e+06\n",
            "==============================================================================\n",
            "\n",
            "Warnings:\n",
            "[1] Standard Errors assume that the covariance matrix of the errors is correctly specified.\n",
            "[2] The condition number is large, 1.4e+06. This might indicate that there are\n",
            "strong multicollinearity or other numerical problems.\n"
          ]
        }
      ]
    }
  ]
}